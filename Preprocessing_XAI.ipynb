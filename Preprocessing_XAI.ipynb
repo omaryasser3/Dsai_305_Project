{
 "nbformat": 4,
 "nbformat_minor": 0,
 "metadata": {
  "colab": {
   "provenance": [],
   "authorship_tag": "ABX9TyMa7C1aGpgnbegiCD1HV6KW"
  },
  "kernelspec": {
   "name": "python3",
   "display_name": "Python 3 (ipykernel)",
   "language": "python"
  },
  "language_info": {
   "name": "python"
  }
 },
 "cells": [
  {
   "cell_type": "code",
   "metadata": {
    "id": "6VxOZ7OQhfW9",
    "ExecuteTime": {
     "end_time": "2025-04-17T12:07:27.190585Z",
     "start_time": "2025-04-17T12:07:27.124164Z"
    }
   },
   "source": [],
   "outputs": [],
   "execution_count": null
  },
  {
   "cell_type": "markdown",
   "source": [
    "#import Libraries"
   ],
   "metadata": {
    "id": "VECMUuRg5aF_"
   }
  },
  {
   "metadata": {
    "id": "655c0e923a30a521",
    "ExecuteTime": {
     "end_time": "2025-04-17T12:07:27.242501Z",
     "start_time": "2025-04-17T12:07:27.217558Z"
    }
   },
   "cell_type": "code",
   "source": [
    "import pandas as pd\n",
    "import numpy as np\n",
    "import matplotlib.pyplot as plt\n",
    "import seaborn as sns"
   ],
   "outputs": [],
   "execution_count": 31
  },
  {
   "cell_type": "markdown",
   "source": [
    "# Load and Explore the Dataset"
   ],
   "metadata": {
    "id": "h7QoVh645cH-"
   }
  },
  {
   "metadata": {
    "id": "36968297509c4aff",
    "ExecuteTime": {
     "end_time": "2025-04-17T12:07:27.539999Z",
     "start_time": "2025-04-17T12:07:27.433238Z"
    }
   },
   "cell_type": "code",
   "source": [
    "df= pd.read_csv('cardio_train.csv', sep=';')"
   ],
   "outputs": [],
   "execution_count": 32
  },
  {
   "metadata": {
    "colab": {
     "base_uri": "https://localhost:8080/",
     "height": 206
    },
    "id": "ee70420af814c4d8",
    "executionInfo": {
     "status": "ok",
     "timestamp": 1744883356448,
     "user_tz": -120,
     "elapsed": 71,
     "user": {
      "displayName": "Mohamed Hassan 202201257",
      "userId": "09730208746167471469"
     }
    },
    "outputId": "10ccac38-b074-42f3-c8a5-bf03d4fe4e2c",
    "ExecuteTime": {
     "end_time": "2025-04-17T12:07:27.581278Z",
     "start_time": "2025-04-17T12:07:27.568738Z"
    }
   },
   "cell_type": "code",
   "source": [
    "df.head()"
   ],
   "outputs": [
    {
     "data": {
      "text/plain": [
       "   id    age  gender  height  weight  ap_hi  ap_lo  cholesterol  gluc  smoke  \\\n",
       "0   0  18393       2     168    62.0    110     80            1     1      0   \n",
       "1   1  20228       1     156    85.0    140     90            3     1      0   \n",
       "2   2  18857       1     165    64.0    130     70            3     1      0   \n",
       "3   3  17623       2     169    82.0    150    100            1     1      0   \n",
       "4   4  17474       1     156    56.0    100     60            1     1      0   \n",
       "\n",
       "   alco  active  cardio  \n",
       "0     0       1       0  \n",
       "1     0       1       1  \n",
       "2     0       0       1  \n",
       "3     0       1       1  \n",
       "4     0       0       0  "
      ],
      "text/html": [
       "<div>\n",
       "<style scoped>\n",
       "    .dataframe tbody tr th:only-of-type {\n",
       "        vertical-align: middle;\n",
       "    }\n",
       "\n",
       "    .dataframe tbody tr th {\n",
       "        vertical-align: top;\n",
       "    }\n",
       "\n",
       "    .dataframe thead th {\n",
       "        text-align: right;\n",
       "    }\n",
       "</style>\n",
       "<table border=\"1\" class=\"dataframe\">\n",
       "  <thead>\n",
       "    <tr style=\"text-align: right;\">\n",
       "      <th></th>\n",
       "      <th>id</th>\n",
       "      <th>age</th>\n",
       "      <th>gender</th>\n",
       "      <th>height</th>\n",
       "      <th>weight</th>\n",
       "      <th>ap_hi</th>\n",
       "      <th>ap_lo</th>\n",
       "      <th>cholesterol</th>\n",
       "      <th>gluc</th>\n",
       "      <th>smoke</th>\n",
       "      <th>alco</th>\n",
       "      <th>active</th>\n",
       "      <th>cardio</th>\n",
       "    </tr>\n",
       "  </thead>\n",
       "  <tbody>\n",
       "    <tr>\n",
       "      <th>0</th>\n",
       "      <td>0</td>\n",
       "      <td>18393</td>\n",
       "      <td>2</td>\n",
       "      <td>168</td>\n",
       "      <td>62.0</td>\n",
       "      <td>110</td>\n",
       "      <td>80</td>\n",
       "      <td>1</td>\n",
       "      <td>1</td>\n",
       "      <td>0</td>\n",
       "      <td>0</td>\n",
       "      <td>1</td>\n",
       "      <td>0</td>\n",
       "    </tr>\n",
       "    <tr>\n",
       "      <th>1</th>\n",
       "      <td>1</td>\n",
       "      <td>20228</td>\n",
       "      <td>1</td>\n",
       "      <td>156</td>\n",
       "      <td>85.0</td>\n",
       "      <td>140</td>\n",
       "      <td>90</td>\n",
       "      <td>3</td>\n",
       "      <td>1</td>\n",
       "      <td>0</td>\n",
       "      <td>0</td>\n",
       "      <td>1</td>\n",
       "      <td>1</td>\n",
       "    </tr>\n",
       "    <tr>\n",
       "      <th>2</th>\n",
       "      <td>2</td>\n",
       "      <td>18857</td>\n",
       "      <td>1</td>\n",
       "      <td>165</td>\n",
       "      <td>64.0</td>\n",
       "      <td>130</td>\n",
       "      <td>70</td>\n",
       "      <td>3</td>\n",
       "      <td>1</td>\n",
       "      <td>0</td>\n",
       "      <td>0</td>\n",
       "      <td>0</td>\n",
       "      <td>1</td>\n",
       "    </tr>\n",
       "    <tr>\n",
       "      <th>3</th>\n",
       "      <td>3</td>\n",
       "      <td>17623</td>\n",
       "      <td>2</td>\n",
       "      <td>169</td>\n",
       "      <td>82.0</td>\n",
       "      <td>150</td>\n",
       "      <td>100</td>\n",
       "      <td>1</td>\n",
       "      <td>1</td>\n",
       "      <td>0</td>\n",
       "      <td>0</td>\n",
       "      <td>1</td>\n",
       "      <td>1</td>\n",
       "    </tr>\n",
       "    <tr>\n",
       "      <th>4</th>\n",
       "      <td>4</td>\n",
       "      <td>17474</td>\n",
       "      <td>1</td>\n",
       "      <td>156</td>\n",
       "      <td>56.0</td>\n",
       "      <td>100</td>\n",
       "      <td>60</td>\n",
       "      <td>1</td>\n",
       "      <td>1</td>\n",
       "      <td>0</td>\n",
       "      <td>0</td>\n",
       "      <td>0</td>\n",
       "      <td>0</td>\n",
       "    </tr>\n",
       "  </tbody>\n",
       "</table>\n",
       "</div>"
      ]
     },
     "execution_count": 33,
     "metadata": {},
     "output_type": "execute_result"
    }
   ],
   "execution_count": 33
  },
  {
   "metadata": {
    "colab": {
     "base_uri": "https://localhost:8080/"
    },
    "id": "646516395eb1bde6",
    "executionInfo": {
     "status": "ok",
     "timestamp": 1744883356520,
     "user_tz": -120,
     "elapsed": 71,
     "user": {
      "displayName": "Mohamed Hassan 202201257",
      "userId": "09730208746167471469"
     }
    },
    "outputId": "fa704740-2e8d-468f-e037-72d09ad7d74d",
    "ExecuteTime": {
     "end_time": "2025-04-17T12:07:27.734394Z",
     "start_time": "2025-04-17T12:07:27.675531Z"
    }
   },
   "cell_type": "code",
   "source": [
    "df.info()"
   ],
   "outputs": [
    {
     "name": "stdout",
     "output_type": "stream",
     "text": [
      "<class 'pandas.core.frame.DataFrame'>\n",
      "RangeIndex: 70000 entries, 0 to 69999\n",
      "Data columns (total 13 columns):\n",
      " #   Column       Non-Null Count  Dtype  \n",
      "---  ------       --------------  -----  \n",
      " 0   id           70000 non-null  int64  \n",
      " 1   age          70000 non-null  int64  \n",
      " 2   gender       70000 non-null  int64  \n",
      " 3   height       70000 non-null  int64  \n",
      " 4   weight       70000 non-null  float64\n",
      " 5   ap_hi        70000 non-null  int64  \n",
      " 6   ap_lo        70000 non-null  int64  \n",
      " 7   cholesterol  70000 non-null  int64  \n",
      " 8   gluc         70000 non-null  int64  \n",
      " 9   smoke        70000 non-null  int64  \n",
      " 10  alco         70000 non-null  int64  \n",
      " 11  active       70000 non-null  int64  \n",
      " 12  cardio       70000 non-null  int64  \n",
      "dtypes: float64(1), int64(12)\n",
      "memory usage: 6.9 MB\n"
     ]
    }
   ],
   "execution_count": 34
  },
  {
   "metadata": {
    "colab": {
     "base_uri": "https://localhost:8080/",
     "height": 492
    },
    "id": "c4f94f63dabe787f",
    "executionInfo": {
     "status": "ok",
     "timestamp": 1744883356521,
     "user_tz": -120,
     "elapsed": 20,
     "user": {
      "displayName": "Mohamed Hassan 202201257",
      "userId": "09730208746167471469"
     }
    },
    "outputId": "4cb58c74-d3f0-476f-f8f8-ce2cefbccb87",
    "ExecuteTime": {
     "end_time": "2025-04-17T12:07:27.803555Z",
     "start_time": "2025-04-17T12:07:27.787435Z"
    }
   },
   "cell_type": "code",
   "source": [
    "df.nunique()"
   ],
   "outputs": [
    {
     "data": {
      "text/plain": [
       "id             70000\n",
       "age             8076\n",
       "gender             2\n",
       "height           109\n",
       "weight           287\n",
       "ap_hi            153\n",
       "ap_lo            157\n",
       "cholesterol        3\n",
       "gluc               3\n",
       "smoke              2\n",
       "alco               2\n",
       "active             2\n",
       "cardio             2\n",
       "dtype: int64"
      ]
     },
     "execution_count": 35,
     "metadata": {},
     "output_type": "execute_result"
    }
   ],
   "execution_count": 35
  },
  {
   "metadata": {
    "colab": {
     "base_uri": "https://localhost:8080/",
     "height": 492
    },
    "id": "6891d7ccfc09d567",
    "executionInfo": {
     "status": "ok",
     "timestamp": 1744883356522,
     "user_tz": -120,
     "elapsed": 9,
     "user": {
      "displayName": "Mohamed Hassan 202201257",
      "userId": "09730208746167471469"
     }
    },
    "outputId": "88b0b94c-696e-4463-f7ea-b535825bd735",
    "ExecuteTime": {
     "end_time": "2025-04-17T12:07:27.871052Z",
     "start_time": "2025-04-17T12:07:27.865547Z"
    }
   },
   "cell_type": "code",
   "source": [
    "df.dtypes"
   ],
   "outputs": [
    {
     "data": {
      "text/plain": [
       "id               int64\n",
       "age              int64\n",
       "gender           int64\n",
       "height           int64\n",
       "weight         float64\n",
       "ap_hi            int64\n",
       "ap_lo            int64\n",
       "cholesterol      int64\n",
       "gluc             int64\n",
       "smoke            int64\n",
       "alco             int64\n",
       "active           int64\n",
       "cardio           int64\n",
       "dtype: object"
      ]
     },
     "execution_count": 36,
     "metadata": {},
     "output_type": "execute_result"
    }
   ],
   "execution_count": 36
  },
  {
   "cell_type": "code",
   "source": [
    "sum(df.duplicated())"
   ],
   "metadata": {
    "colab": {
     "base_uri": "https://localhost:8080/"
    },
    "id": "f6yI-ERt5m7Z",
    "executionInfo": {
     "status": "ok",
     "timestamp": 1744883356528,
     "user_tz": -120,
     "elapsed": 10,
     "user": {
      "displayName": "Mohamed Hassan 202201257",
      "userId": "09730208746167471469"
     }
    },
    "outputId": "2691f77b-d698-409e-f889-28842fccd7ed",
    "ExecuteTime": {
     "end_time": "2025-04-17T12:07:27.999163Z",
     "start_time": "2025-04-17T12:07:27.977275Z"
    }
   },
   "outputs": [
    {
     "data": {
      "text/plain": [
       "0"
      ]
     },
     "execution_count": 37,
     "metadata": {},
     "output_type": "execute_result"
    }
   ],
   "execution_count": 37
  },
  {
   "cell_type": "markdown",
   "source": [
    "# Data Cleaning"
   ],
   "metadata": {
    "id": "_AK8ZoQo5xah"
   }
  },
  {
   "metadata": {
    "id": "c369542104d974da",
    "ExecuteTime": {
     "end_time": "2025-04-17T12:07:28.122158Z",
     "start_time": "2025-04-17T12:07:28.110619Z"
    }
   },
   "cell_type": "code",
   "source": [
    "df.drop(columns=['id'], inplace=True)"
   ],
   "outputs": [],
   "execution_count": 38
  },
  {
   "metadata": {
    "id": "d7db97b9888b7af2",
    "ExecuteTime": {
     "end_time": "2025-04-17T12:07:28.155768Z",
     "start_time": "2025-04-17T12:07:28.152378Z"
    }
   },
   "cell_type": "code",
   "source": [
    "categorical_columns=['cholesterol', 'gluc', 'smoke', 'alco', 'active','cardio','gender']"
   ],
   "outputs": [],
   "execution_count": 39
  },
  {
   "metadata": {
    "id": "731bed75070036e2",
    "ExecuteTime": {
     "end_time": "2025-04-17T12:07:28.184897Z",
     "start_time": "2025-04-17T12:07:28.174198Z"
    }
   },
   "cell_type": "code",
   "source": [
    "for col in categorical_columns:\n",
    "    df[col] = df[col].astype('category')"
   ],
   "outputs": [],
   "execution_count": 40
  },
  {
   "metadata": {
    "colab": {
     "base_uri": "https://localhost:8080/"
    },
    "id": "a6c785460bddc01f",
    "executionInfo": {
     "status": "ok",
     "timestamp": 1744883356575,
     "user_tz": -120,
     "elapsed": 5,
     "user": {
      "displayName": "Mohamed Hassan 202201257",
      "userId": "09730208746167471469"
     }
    },
    "outputId": "03964a89-b3a9-43fe-b1d3-cf6aa75aca38",
    "ExecuteTime": {
     "end_time": "2025-04-17T12:07:28.216999Z",
     "start_time": "2025-04-17T12:07:28.208122Z"
    }
   },
   "cell_type": "code",
   "source": [
    "numerical_columns = df.select_dtypes(include=['int64', 'float64']).columns\n",
    "numerical_columns"
   ],
   "outputs": [
    {
     "data": {
      "text/plain": [
       "Index(['age', 'height', 'weight', 'ap_hi', 'ap_lo'], dtype='object')"
      ]
     },
     "execution_count": 41,
     "metadata": {},
     "output_type": "execute_result"
    }
   ],
   "execution_count": 41
  },
  {
   "cell_type": "markdown",
   "source": [
    "# Visualize outliers"
   ],
   "metadata": {
    "id": "kUV2fy-455mg"
   }
  },
  {
   "cell_type": "code",
   "source": [
    "plt.figure(figsize=(20, 15))\n",
    "for i, col in enumerate(numerical_columns, 1):\n",
    "    plt.subplot(3, 3, i)\n",
    "    sns.boxplot(y=df[col])\n",
    "    plt.title(f'Boxplot of {col}')\n",
    "plt.tight_layout()\n",
    "plt.show()"
   ],
   "metadata": {
    "colab": {
     "base_uri": "https://localhost:8080/",
     "height": 875
    },
    "id": "apO58N3f58_u",
    "executionInfo": {
     "status": "ok",
     "timestamp": 1744883358040,
     "user_tz": -120,
     "elapsed": 1461,
     "user": {
      "displayName": "Mohamed Hassan 202201257",
      "userId": "09730208746167471469"
     }
    },
    "outputId": "4925d2eb-4ea8-4373-c2b0-37d7db5b77d5",
    "ExecuteTime": {
     "end_time": "2025-04-17T12:07:28.790515Z",
     "start_time": "2025-04-17T12:07:28.245431Z"
    }
   },
   "outputs": [
    {
     "data": {
      "text/plain": [
       "<Figure size 2000x1500 with 5 Axes>"
      ],
      "image/png": "[encoded data removed]"
     },
     "metadata": {},
     "output_type": "display_data"
    }
   ],
   "execution_count": 42
  },
  {
   "cell_type": "markdown",
   "source": [
    "# Remove Outliers"
   ],
   "metadata": {
    "id": "bsHy7lkg6AXn"
   }
  },
  {
   "metadata": {
    "id": "ac7c397f987e1ca9",
    "ExecuteTime": {
     "end_time": "2025-04-17T12:07:28.816763Z",
     "start_time": "2025-04-17T12:07:28.812774Z"
    }
   },
   "cell_type": "code",
   "source": [
    "def remove_outliers(df, column):\n",
    "    Q1 = df[column].quantile(0.25)\n",
    "    Q3 = df[column].quantile(0.75)\n",
    "    IQR = Q3 - Q1\n",
    "    lower_bound = Q1 - 1.5 * IQR\n",
    "    upper_bound = Q3 + 1.5 * IQR\n",
    "    return df[(df[column] >= lower_bound) & (df[column] <= upper_bound)]\n"
   ],
   "outputs": [],
   "execution_count": 43
  },
  {
   "metadata": {
    "id": "be84f474e4685fde",
    "ExecuteTime": {
     "end_time": "2025-04-17T12:07:28.864692Z",
     "start_time": "2025-04-17T12:07:28.834502Z"
    }
   },
   "cell_type": "code",
   "source": [
    "for col in numerical_columns:\n",
    "    df = remove_outliers(df, col)"
   ],
   "outputs": [],
   "execution_count": 44
  },
  {
   "cell_type": "code",
   "source": [
    "df.shape"
   ],
   "metadata": {
    "colab": {
     "base_uri": "https://localhost:8080/"
    },
    "id": "Hpzqrwb56GmM",
    "executionInfo": {
     "status": "ok",
     "timestamp": 1744883358072,
     "user_tz": -120,
     "elapsed": 17,
     "user": {
      "displayName": "Mohamed Hassan 202201257",
      "userId": "09730208746167471469"
     }
    },
    "outputId": "497fd317-2685-49ba-e91c-2c24afdb57de",
    "ExecuteTime": {
     "end_time": "2025-04-17T12:07:28.887636Z",
     "start_time": "2025-04-17T12:07:28.882225Z"
    }
   },
   "outputs": [
    {
     "data": {
      "text/plain": [
       "(62502, 12)"
      ]
     },
     "execution_count": 45,
     "metadata": {},
     "output_type": "execute_result"
    }
   ],
   "execution_count": 45
  },
  {
   "cell_type": "code",
   "source": [
    "plt.figure(figsize=(20, 15))\n",
    "for i, col in enumerate(numerical_columns, 1):\n",
    "    plt.subplot(3, 3, i)\n",
    "    sns.boxplot(y=df[col])\n",
    "    plt.title(f'Boxplot of {col}')\n",
    "plt.tight_layout()\n",
    "plt.show()"
   ],
   "metadata": {
    "colab": {
     "base_uri": "https://localhost:8080/",
     "height": 875
    },
    "id": "0bXHWr4F6Ixn",
    "executionInfo": {
     "status": "ok",
     "timestamp": 1744883359215,
     "user_tz": -120,
     "elapsed": 1142,
     "user": {
      "displayName": "Mohamed Hassan 202201257",
      "userId": "09730208746167471469"
     }
    },
    "outputId": "05d295a8-8e9a-415c-b8f9-55949bd92bf5",
    "ExecuteTime": {
     "end_time": "2025-04-17T12:07:29.272579Z",
     "start_time": "2025-04-17T12:07:28.914855Z"
    }
   },
   "outputs": [
    {
     "data": {
      "text/plain": [
       "<Figure size 2000x1500 with 5 Axes>"
      ],
      "image/png": "[encoded data removed]"
     },
     "metadata": {},
     "output_type": "display_data"
    }
   ],
   "execution_count": 46
  },
  {
   "cell_type": "markdown",
   "source": [
    "# Feature Engineering"
   ],
   "metadata": {
    "id": "NQdfRHkG6SaE"
   }
  },
  {
   "cell_type": "markdown",
   "source": [
    "## adding BMI from weight and height"
   ],
   "metadata": {
    "id": "Mp8EPr0V6Wg1"
   }
  },
  {
   "metadata": {
    "id": "e209e2ea8c998efb",
    "ExecuteTime": {
     "end_time": "2025-04-17T12:07:29.299900Z",
     "start_time": "2025-04-17T12:07:29.292217Z"
    }
   },
   "cell_type": "code",
   "source": [
    "df['BMI'] = df['weight'] / ((df['height'] / 100) ** 2)"
   ],
   "outputs": [],
   "execution_count": 47
  },
  {
   "metadata": {
    "id": "d5258676dc123e0e",
    "ExecuteTime": {
     "end_time": "2025-04-17T12:07:29.321414Z",
     "start_time": "2025-04-17T12:07:29.318922Z"
    }
   },
   "cell_type": "code",
   "source": [
    "df['BMI'] = df['BMI'].astype('float64')"
   ],
   "outputs": [],
   "execution_count": 48
  },
  {
   "cell_type": "markdown",
   "source": [
    "## converting age to years from days"
   ],
   "metadata": {
    "id": "A88Ap1396Zyk"
   }
  },
  {
   "metadata": {
    "id": "6281f23e29e316e",
    "ExecuteTime": {
     "end_time": "2025-04-17T12:07:29.362486Z",
     "start_time": "2025-04-17T12:07:29.358436Z"
    }
   },
   "cell_type": "code",
   "source": [
    "df['age'] = df['age'] // 365"
   ],
   "outputs": [],
   "execution_count": 49
  },
  {
   "cell_type": "markdown",
   "source": [
    "## Adding MAP (Mean Arterial Pressure)\n"
   ],
   "metadata": {
    "id": "50FoBqmM6gX6"
   }
  },
  {
   "metadata": {
    "id": "551d2a726dc51f7f",
    "ExecuteTime": {
     "end_time": "2025-04-17T12:07:29.384319Z",
     "start_time": "2025-04-17T12:07:29.379189Z"
    }
   },
   "cell_type": "code",
   "source": [
    "df['MAP']= (df['ap_hi'] + 2*df['ap_lo'])/3"
   ],
   "outputs": [],
   "execution_count": 50
  },
  {
   "cell_type": "markdown",
   "source": [
    "## dropping redundant columns"
   ],
   "metadata": {
    "id": "d5gDQDcl6ofW"
   }
  },
  {
   "metadata": {
    "id": "60a3cc8195025f54",
    "ExecuteTime": {
     "end_time": "2025-04-17T12:07:29.403622Z",
     "start_time": "2025-04-17T12:07:29.398842Z"
    }
   },
   "cell_type": "code",
   "source": [
    "df.drop(columns=['ap_hi', 'ap_lo', 'height', 'weight'], inplace=True)"
   ],
   "outputs": [],
   "execution_count": 51
  },
  {
   "cell_type": "markdown",
   "source": [
    "# Overview after Feature Engineering"
   ],
   "metadata": {
    "id": "CXDDmCr26vjK"
   }
  },
  {
   "metadata": {
    "colab": {
     "base_uri": "https://localhost:8080/",
     "height": 398
    },
    "id": "8a6ca7796ed842ff",
    "executionInfo": {
     "status": "ok",
     "timestamp": 1744883359259,
     "user_tz": -120,
     "elapsed": 7,
     "user": {
      "displayName": "Mohamed Hassan 202201257",
      "userId": "09730208746167471469"
     }
    },
    "outputId": "3baa17bd-3b7e-44e4-d297-1c6606540895",
    "ExecuteTime": {
     "end_time": "2025-04-17T12:07:29.423720Z",
     "start_time": "2025-04-17T12:07:29.419160Z"
    }
   },
   "cell_type": "code",
   "source": [
    "df.dtypes"
   ],
   "outputs": [
    {
     "data": {
      "text/plain": [
       "age               int64\n",
       "gender         category\n",
       "cholesterol    category\n",
       "gluc           category\n",
       "smoke          category\n",
       "alco           category\n",
       "active         category\n",
       "cardio         category\n",
       "BMI             float64\n",
       "MAP             float64\n",
       "dtype: object"
      ]
     },
     "execution_count": 52,
     "metadata": {},
     "output_type": "execute_result"
    }
   ],
   "execution_count": 52
  },
  {
   "metadata": {
    "colab": {
     "base_uri": "https://localhost:8080/",
     "height": 206
    },
    "id": "f8ec30a300ba7571",
    "executionInfo": {
     "status": "ok",
     "timestamp": 1744883359262,
     "user_tz": -120,
     "elapsed": 7,
     "user": {
      "displayName": "Mohamed Hassan 202201257",
      "userId": "09730208746167471469"
     }
    },
    "outputId": "564cded7-f428-4437-8e33-c5c00760f15a",
    "ExecuteTime": {
     "end_time": "2025-04-17T12:07:29.466534Z",
     "start_time": "2025-04-17T12:07:29.458509Z"
    }
   },
   "cell_type": "code",
   "source": [
    "df.head()"
   ],
   "outputs": [
    {
     "data": {
      "text/plain": [
       "   age gender cholesterol gluc smoke alco active cardio        BMI         MAP\n",
       "0   50      2           1    1     0    0      1      0  21.967120   90.000000\n",
       "1   55      1           3    1     0    0      1      1  34.927679  106.666667\n",
       "2   51      1           3    1     0    0      0      1  23.507805   90.000000\n",
       "3   48      2           1    1     0    0      1      1  28.710479  116.666667\n",
       "5   60      1           2    2     0    0      0      0  29.384676   93.333333"
      ],
      "text/html": [
       "<div>\n",
       "<style scoped>\n",
       "    .dataframe tbody tr th:only-of-type {\n",
       "        vertical-align: middle;\n",
       "    }\n",
       "\n",
       "    .dataframe tbody tr th {\n",
       "        vertical-align: top;\n",
       "    }\n",
       "\n",
       "    .dataframe thead th {\n",
       "        text-align: right;\n",
       "    }\n",
       "</style>\n",
       "<table border=\"1\" class=\"dataframe\">\n",
       "  <thead>\n",
       "    <tr style=\"text-align: right;\">\n",
       "      <th></th>\n",
       "      <th>age</th>\n",
       "      <th>gender</th>\n",
       "      <th>cholesterol</th>\n",
       "      <th>gluc</th>\n",
       "      <th>smoke</th>\n",
       "      <th>alco</th>\n",
       "      <th>active</th>\n",
       "      <th>cardio</th>\n",
       "      <th>BMI</th>\n",
       "      <th>MAP</th>\n",
       "    </tr>\n",
       "  </thead>\n",
       "  <tbody>\n",
       "    <tr>\n",
       "      <th>0</th>\n",
       "      <td>50</td>\n",
       "      <td>2</td>\n",
       "      <td>1</td>\n",
       "      <td>1</td>\n",
       "      <td>0</td>\n",
       "      <td>0</td>\n",
       "      <td>1</td>\n",
       "      <td>0</td>\n",
       "      <td>21.967120</td>\n",
       "      <td>90.000000</td>\n",
       "    </tr>\n",
       "    <tr>\n",
       "      <th>1</th>\n",
       "      <td>55</td>\n",
       "      <td>1</td>\n",
       "      <td>3</td>\n",
       "      <td>1</td>\n",
       "      <td>0</td>\n",
       "      <td>0</td>\n",
       "      <td>1</td>\n",
       "      <td>1</td>\n",
       "      <td>34.927679</td>\n",
       "      <td>106.666667</td>\n",
       "    </tr>\n",
       "    <tr>\n",
       "      <th>2</th>\n",
       "      <td>51</td>\n",
       "      <td>1</td>\n",
       "      <td>3</td>\n",
       "      <td>1</td>\n",
       "      <td>0</td>\n",
       "      <td>0</td>\n",
       "      <td>0</td>\n",
       "      <td>1</td>\n",
       "      <td>23.507805</td>\n",
       "      <td>90.000000</td>\n",
       "    </tr>\n",
       "    <tr>\n",
       "      <th>3</th>\n",
       "      <td>48</td>\n",
       "      <td>2</td>\n",
       "      <td>1</td>\n",
       "      <td>1</td>\n",
       "      <td>0</td>\n",
       "      <td>0</td>\n",
       "      <td>1</td>\n",
       "      <td>1</td>\n",
       "      <td>28.710479</td>\n",
       "      <td>116.666667</td>\n",
       "    </tr>\n",
       "    <tr>\n",
       "      <th>5</th>\n",
       "      <td>60</td>\n",
       "      <td>1</td>\n",
       "      <td>2</td>\n",
       "      <td>2</td>\n",
       "      <td>0</td>\n",
       "      <td>0</td>\n",
       "      <td>0</td>\n",
       "      <td>0</td>\n",
       "      <td>29.384676</td>\n",
       "      <td>93.333333</td>\n",
       "    </tr>\n",
       "  </tbody>\n",
       "</table>\n",
       "</div>"
      ]
     },
     "execution_count": 53,
     "metadata": {},
     "output_type": "execute_result"
    }
   ],
   "execution_count": 53
  },
  {
   "cell_type": "markdown",
   "source": [
    "# saving dataset before Binning Continous Features"
   ],
   "metadata": {
    "id": "xmyeQw1K7gF0"
   }
  },
  {
   "cell_type": "code",
   "source": "df.to_csv('cardio_data(IQR-pre_binning).csv')",
   "metadata": {
    "id": "4Wvg60Xe7j_2",
    "ExecuteTime": {
     "end_time": "2025-04-17T12:07:29.704023Z",
     "start_time": "2025-04-17T12:07:29.531583Z"
    }
   },
   "outputs": [],
   "execution_count": 54
  },
  {
   "cell_type": "markdown",
   "source": [
    "# Bin Continuous Features"
   ],
   "metadata": {
    "id": "hWUQud0B6y9X"
   }
  },
  {
   "metadata": {
    "id": "e719aabd7f4362cf",
    "ExecuteTime": {
     "end_time": "2025-04-17T12:07:29.733071Z",
     "start_time": "2025-04-17T12:07:29.726635Z"
    }
   },
   "cell_type": "code",
   "source": [
    "BMIbins = np.linspace(df['BMI'].min(),df['BMI'].max(), 6 )\n",
    "MAPbins= np.linspace(df['MAP'].min(),df['MAP'].max(), 6)\n",
    "AgeBins= np.linspace(df['age'].min(),df['age'].max(), 6 )\n",
    "AgeBins = AgeBins.astype(int)"
   ],
   "outputs": [],
   "execution_count": 55
  },
  {
   "metadata": {
    "colab": {
     "base_uri": "https://localhost:8080/"
    },
    "id": "d5cf58dfb8d868a3",
    "executionInfo": {
     "status": "ok",
     "timestamp": 1744883359654,
     "user_tz": -120,
     "elapsed": 6,
     "user": {
      "displayName": "Mohamed Hassan 202201257",
      "userId": "09730208746167471469"
     }
    },
    "outputId": "f2752f69-0765-4227-a7e0-df70cb6009ba",
    "ExecuteTime": {
     "end_time": "2025-04-17T12:07:29.754633Z",
     "start_time": "2025-04-17T12:07:29.749492Z"
    }
   },
   "cell_type": "code",
   "source": [
    "AgeBins"
   ],
   "outputs": [
    {
     "data": {
      "text/plain": [
       "array([39, 44, 49, 54, 59, 64])"
      ]
     },
     "execution_count": 56,
     "metadata": {},
     "output_type": "execute_result"
    }
   ],
   "execution_count": 56
  },
  {
   "metadata": {
    "colab": {
     "base_uri": "https://localhost:8080/"
    },
    "id": "e2ac4b8d46d48fe7",
    "executionInfo": {
     "status": "ok",
     "timestamp": 1744883359660,
     "user_tz": -120,
     "elapsed": 6,
     "user": {
      "displayName": "Mohamed Hassan 202201257",
      "userId": "09730208746167471469"
     }
    },
    "outputId": "4e5e244d-6f2f-46da-9ef8-2b880b055724",
    "ExecuteTime": {
     "end_time": "2025-04-17T12:07:29.820915Z",
     "start_time": "2025-04-17T12:07:29.816816Z"
    }
   },
   "cell_type": "code",
   "source": [
    "AgeBins"
   ],
   "outputs": [
    {
     "data": {
      "text/plain": [
       "array([39, 44, 49, 54, 59, 64])"
      ]
     },
     "execution_count": 57,
     "metadata": {},
     "output_type": "execute_result"
    }
   ],
   "execution_count": 57
  },
  {
   "metadata": {
    "id": "616e2b53e070931c",
    "ExecuteTime": {
     "end_time": "2025-04-17T12:07:29.859214Z",
     "start_time": "2025-04-17T12:07:29.846581Z"
    }
   },
   "cell_type": "code",
   "source": [
    "df['age']=pd.cut(df['age'], bins=AgeBins, labels=[1, 2, 3, 4, 5], include_lowest=True)\n",
    "df['BMI']=pd.cut(df['BMI'], bins=BMIbins, labels=[1, 2, 3, 4, 5], include_lowest=True)\n",
    "df['MAP']=pd.cut(df['MAP'], bins=MAPbins, labels=[1, 2, 3, 4, 5], include_lowest= True)"
   ],
   "outputs": [],
   "execution_count": 58
  },
  {
   "cell_type": "code",
   "source": [
    "df.head()"
   ],
   "metadata": {
    "colab": {
     "base_uri": "https://localhost:8080/",
     "height": 206
    },
    "id": "K75sVJKh7WZv",
    "executionInfo": {
     "status": "ok",
     "timestamp": 1744883359718,
     "user_tz": -120,
     "elapsed": 54,
     "user": {
      "displayName": "Mohamed Hassan 202201257",
      "userId": "09730208746167471469"
     }
    },
    "outputId": "e8c880c1-8bb6-421d-8bba-e5e5e175147d",
    "ExecuteTime": {
     "end_time": "2025-04-17T12:07:29.889346Z",
     "start_time": "2025-04-17T12:07:29.881407Z"
    }
   },
   "outputs": [
    {
     "data": {
      "text/plain": [
       "  age gender cholesterol gluc smoke alco active cardio BMI MAP\n",
       "0   3      2           1    1     0    0      1      0   2   2\n",
       "1   4      1           3    1     0    0      1      1   3   4\n",
       "2   3      1           3    1     0    0      0      1   2   2\n",
       "3   2      2           1    1     0    0      1      1   3   5\n",
       "5   5      1           2    2     0    0      0      0   3   2"
      ],
      "text/html": [
       "<div>\n",
       "<style scoped>\n",
       "    .dataframe tbody tr th:only-of-type {\n",
       "        vertical-align: middle;\n",
       "    }\n",
       "\n",
       "    .dataframe tbody tr th {\n",
       "        vertical-align: top;\n",
       "    }\n",
       "\n",
       "    .dataframe thead th {\n",
       "        text-align: right;\n",
       "    }\n",
       "</style>\n",
       "<table border=\"1\" class=\"dataframe\">\n",
       "  <thead>\n",
       "    <tr style=\"text-align: right;\">\n",
       "      <th></th>\n",
       "      <th>age</th>\n",
       "      <th>gender</th>\n",
       "      <th>cholesterol</th>\n",
       "      <th>gluc</th>\n",
       "      <th>smoke</th>\n",
       "      <th>alco</th>\n",
       "      <th>active</th>\n",
       "      <th>cardio</th>\n",
       "      <th>BMI</th>\n",
       "      <th>MAP</th>\n",
       "    </tr>\n",
       "  </thead>\n",
       "  <tbody>\n",
       "    <tr>\n",
       "      <th>0</th>\n",
       "      <td>3</td>\n",
       "      <td>2</td>\n",
       "      <td>1</td>\n",
       "      <td>1</td>\n",
       "      <td>0</td>\n",
       "      <td>0</td>\n",
       "      <td>1</td>\n",
       "      <td>0</td>\n",
       "      <td>2</td>\n",
       "      <td>2</td>\n",
       "    </tr>\n",
       "    <tr>\n",
       "      <th>1</th>\n",
       "      <td>4</td>\n",
       "      <td>1</td>\n",
       "      <td>3</td>\n",
       "      <td>1</td>\n",
       "      <td>0</td>\n",
       "      <td>0</td>\n",
       "      <td>1</td>\n",
       "      <td>1</td>\n",
       "      <td>3</td>\n",
       "      <td>4</td>\n",
       "    </tr>\n",
       "    <tr>\n",
       "      <th>2</th>\n",
       "      <td>3</td>\n",
       "      <td>1</td>\n",
       "      <td>3</td>\n",
       "      <td>1</td>\n",
       "      <td>0</td>\n",
       "      <td>0</td>\n",
       "      <td>0</td>\n",
       "      <td>1</td>\n",
       "      <td>2</td>\n",
       "      <td>2</td>\n",
       "    </tr>\n",
       "    <tr>\n",
       "      <th>3</th>\n",
       "      <td>2</td>\n",
       "      <td>2</td>\n",
       "      <td>1</td>\n",
       "      <td>1</td>\n",
       "      <td>0</td>\n",
       "      <td>0</td>\n",
       "      <td>1</td>\n",
       "      <td>1</td>\n",
       "      <td>3</td>\n",
       "      <td>5</td>\n",
       "    </tr>\n",
       "    <tr>\n",
       "      <th>5</th>\n",
       "      <td>5</td>\n",
       "      <td>1</td>\n",
       "      <td>2</td>\n",
       "      <td>2</td>\n",
       "      <td>0</td>\n",
       "      <td>0</td>\n",
       "      <td>0</td>\n",
       "      <td>0</td>\n",
       "      <td>3</td>\n",
       "      <td>2</td>\n",
       "    </tr>\n",
       "  </tbody>\n",
       "</table>\n",
       "</div>"
      ]
     },
     "execution_count": 59,
     "metadata": {},
     "output_type": "execute_result"
    }
   ],
   "execution_count": 59
  },
  {
   "cell_type": "markdown",
   "source": [
    "# Exporting cleaned data"
   ],
   "metadata": {
    "id": "DAlI7Rra8GGm"
   }
  },
  {
   "cell_type": "code",
   "source": [
    "df.to_csv('cardio_data_cleaned(IQR).csv', index=False)"
   ],
   "metadata": {
    "id": "8Oen4kZe3szc",
    "ExecuteTime": {
     "end_time": "2025-04-17T12:07:30.000331Z",
     "start_time": "2025-04-17T12:07:29.939650Z"
    }
   },
   "outputs": [],
   "execution_count": 60
  },
  {
   "cell_type": "code",
   "source": [
    "pd.read_csv('cardio_data_cleaned(IQR).csv')"
   ],
   "metadata": {
    "colab": {
     "base_uri": "https://localhost:8080/",
     "height": 423
    },
    "id": "Q8XgZnWp3xeI",
    "executionInfo": {
     "status": "ok",
     "timestamp": 1744883359992,
     "user_tz": -120,
     "elapsed": 90,
     "user": {
      "displayName": "Mohamed Hassan 202201257",
      "userId": "09730208746167471469"
     }
    },
    "outputId": "c0938dfb-2043-4afe-a733-56d9336b5da6",
    "ExecuteTime": {
     "end_time": "2025-04-17T12:07:30.138264Z",
     "start_time": "2025-04-17T12:07:30.093254Z"
    }
   },
   "outputs": [
    {
     "data": {
      "text/plain": [
       "       age  gender  cholesterol  gluc  smoke  alco  active  cardio  BMI  MAP\n",
       "0        3       2            1     1      0     0       1       0    2    2\n",
       "1        4       1            3     1      0     0       1       1    3    4\n",
       "2        3       1            3     1      0     0       0       1    2    2\n",
       "3        2       2            1     1      0     0       1       1    3    5\n",
       "4        5       1            2     2      0     0       0       0    3    2\n",
       "...    ...     ...          ...   ...    ...   ...     ...     ...  ...  ...\n",
       "62497    3       1            1     1      0     0       1       1    2    3\n",
       "62498    4       1            1     1      0     0       1       1    3    3\n",
       "62499    3       2            1     1      1     0       1       0    2    2\n",
       "62500    5       1            1     2      0     0       0       1    2    3\n",
       "62501    4       1            2     1      0     0       1       0    2    2\n",
       "\n",
       "[62502 rows x 10 columns]"
      ],
      "text/html": [
       "<div>\n",
       "<style scoped>\n",
       "    .dataframe tbody tr th:only-of-type {\n",
       "        vertical-align: middle;\n",
       "    }\n",
       "\n",
       "    .dataframe tbody tr th {\n",
       "        vertical-align: top;\n",
       "    }\n",
       "\n",
       "    .dataframe thead th {\n",
       "        text-align: right;\n",
       "    }\n",
       "</style>\n",
       "<table border=\"1\" class=\"dataframe\">\n",
       "  <thead>\n",
       "    <tr style=\"text-align: right;\">\n",
       "      <th></th>\n",
       "      <th>age</th>\n",
       "      <th>gender</th>\n",
       "      <th>cholesterol</th>\n",
       "      <th>gluc</th>\n",
       "      <th>smoke</th>\n",
       "      <th>alco</th>\n",
       "      <th>active</th>\n",
       "      <th>cardio</th>\n",
       "      <th>BMI</th>\n",
       "      <th>MAP</th>\n",
       "    </tr>\n",
       "  </thead>\n",
       "  <tbody>\n",
       "    <tr>\n",
       "      <th>0</th>\n",
       "      <td>3</td>\n",
       "      <td>2</td>\n",
       "      <td>1</td>\n",
       "      <td>1</td>\n",
       "      <td>0</td>\n",
       "      <td>0</td>\n",
       "      <td>1</td>\n",
       "      <td>0</td>\n",
       "      <td>2</td>\n",
       "      <td>2</td>\n",
       "    </tr>\n",
       "    <tr>\n",
       "      <th>1</th>\n",
       "      <td>4</td>\n",
       "      <td>1</td>\n",
       "      <td>3</td>\n",
       "      <td>1</td>\n",
       "      <td>0</td>\n",
       "      <td>0</td>\n",
       "      <td>1</td>\n",
       "      <td>1</td>\n",
       "      <td>3</td>\n",
       "      <td>4</td>\n",
       "    </tr>\n",
       "    <tr>\n",
       "      <th>2</th>\n",
       "      <td>3</td>\n",
       "      <td>1</td>\n",
       "      <td>3</td>\n",
       "      <td>1</td>\n",
       "      <td>0</td>\n",
       "      <td>0</td>\n",
       "      <td>0</td>\n",
       "      <td>1</td>\n",
       "      <td>2</td>\n",
       "      <td>2</td>\n",
       "    </tr>\n",
       "    <tr>\n",
       "      <th>3</th>\n",
       "      <td>2</td>\n",
       "      <td>2</td>\n",
       "      <td>1</td>\n",
       "      <td>1</td>\n",
       "      <td>0</td>\n",
       "      <td>0</td>\n",
       "      <td>1</td>\n",
       "      <td>1</td>\n",
       "      <td>3</td>\n",
       "      <td>5</td>\n",
       "    </tr>\n",
       "    <tr>\n",
       "      <th>4</th>\n",
       "      <td>5</td>\n",
       "      <td>1</td>\n",
       "      <td>2</td>\n",
       "      <td>2</td>\n",
       "      <td>0</td>\n",
       "      <td>0</td>\n",
       "      <td>0</td>\n",
       "      <td>0</td>\n",
       "      <td>3</td>\n",
       "      <td>2</td>\n",
       "    </tr>\n",
       "    <tr>\n",
       "      <th>...</th>\n",
       "      <td>...</td>\n",
       "      <td>...</td>\n",
       "      <td>...</td>\n",
       "      <td>...</td>\n",
       "      <td>...</td>\n",
       "      <td>...</td>\n",
       "      <td>...</td>\n",
       "      <td>...</td>\n",
       "      <td>...</td>\n",
       "      <td>...</td>\n",
       "    </tr>\n",
       "    <tr>\n",
       "      <th>62497</th>\n",
       "      <td>3</td>\n",
       "      <td>1</td>\n",
       "      <td>1</td>\n",
       "      <td>1</td>\n",
       "      <td>0</td>\n",
       "      <td>0</td>\n",
       "      <td>1</td>\n",
       "      <td>1</td>\n",
       "      <td>2</td>\n",
       "      <td>3</td>\n",
       "    </tr>\n",
       "    <tr>\n",
       "      <th>62498</th>\n",
       "      <td>4</td>\n",
       "      <td>1</td>\n",
       "      <td>1</td>\n",
       "      <td>1</td>\n",
       "      <td>0</td>\n",
       "      <td>0</td>\n",
       "      <td>1</td>\n",
       "      <td>1</td>\n",
       "      <td>3</td>\n",
       "      <td>3</td>\n",
       "    </tr>\n",
       "    <tr>\n",
       "      <th>62499</th>\n",
       "      <td>3</td>\n",
       "      <td>2</td>\n",
       "      <td>1</td>\n",
       "      <td>1</td>\n",
       "      <td>1</td>\n",
       "      <td>0</td>\n",
       "      <td>1</td>\n",
       "      <td>0</td>\n",
       "      <td>2</td>\n",
       "      <td>2</td>\n",
       "    </tr>\n",
       "    <tr>\n",
       "      <th>62500</th>\n",
       "      <td>5</td>\n",
       "      <td>1</td>\n",
       "      <td>1</td>\n",
       "      <td>2</td>\n",
       "      <td>0</td>\n",
       "      <td>0</td>\n",
       "      <td>0</td>\n",
       "      <td>1</td>\n",
       "      <td>2</td>\n",
       "      <td>3</td>\n",
       "    </tr>\n",
       "    <tr>\n",
       "      <th>62501</th>\n",
       "      <td>4</td>\n",
       "      <td>1</td>\n",
       "      <td>2</td>\n",
       "      <td>1</td>\n",
       "      <td>0</td>\n",
       "      <td>0</td>\n",
       "      <td>1</td>\n",
       "      <td>0</td>\n",
       "      <td>2</td>\n",
       "      <td>2</td>\n",
       "    </tr>\n",
       "  </tbody>\n",
       "</table>\n",
       "<p>62502 rows × 10 columns</p>\n",
       "</div>"
      ]
     },
     "execution_count": 61,
     "metadata": {},
     "output_type": "execute_result"
    }
   ],
   "execution_count": 61
  },
  {
   "cell_type": "code",
   "source": [
    "df.isnull().sum()"
   ],
   "metadata": {
    "id": "54vEKTj64bH4",
    "executionInfo": {
     "status": "ok",
     "timestamp": 1744883359995,
     "user_tz": -120,
     "elapsed": 4,
     "user": {
      "displayName": "Mohamed Hassan 202201257",
      "userId": "09730208746167471469"
     }
    },
    "colab": {
     "base_uri": "https://localhost:8080/",
     "height": 398
    },
    "outputId": "c8822250-e735-4f74-db9e-530a970dda50",
    "ExecuteTime": {
     "end_time": "2025-04-17T12:07:30.197657Z",
     "start_time": "2025-04-17T12:07:30.192610Z"
    }
   },
   "outputs": [
    {
     "data": {
      "text/plain": [
       "age            0\n",
       "gender         0\n",
       "cholesterol    0\n",
       "gluc           0\n",
       "smoke          0\n",
       "alco           0\n",
       "active         0\n",
       "cardio         0\n",
       "BMI            0\n",
       "MAP            0\n",
       "dtype: int64"
      ]
     },
     "execution_count": 62,
     "metadata": {},
     "output_type": "execute_result"
    }
   ],
   "execution_count": 62
  }
 ]
}
